{
 "cells": [
  {
   "cell_type": "code",
   "execution_count": 1,
   "metadata": {
    "id": "x3KS8DnltL30"
   },
   "outputs": [
    {
     "name": "stderr",
     "output_type": "stream",
     "text": [
      "2022-07-04 21:41:48.417300: I tensorflow/core/util/util.cc:169] oneDNN custom operations are on. You may see slightly different numerical results due to floating-point round-off errors from different computation orders. To turn them off, set the environment variable `TF_ENABLE_ONEDNN_OPTS=0`.\n",
      "2022-07-04 21:41:48.474663: W tensorflow/stream_executor/platform/default/dso_loader.cc:64] Could not load dynamic library 'libcudart.so.11.0'; dlerror: libcudart.so.11.0: cannot open shared object file: No such file or directory\n",
      "2022-07-04 21:41:48.474689: I tensorflow/stream_executor/cuda/cudart_stub.cc:29] Ignore above cudart dlerror if you do not have a GPU set up on your machine.\n"
     ]
    }
   ],
   "source": [
    "import numpy as np\n",
    "import math\n",
    "from keras import optimizers\n",
    "from utils import *\n",
    "from model import *\n",
    "import random"
   ]
  },
  {
   "cell_type": "markdown",
   "metadata": {
    "id": "y8USVgWmtL36"
   },
   "source": [
    "# Load Data"
   ]
  },
  {
   "cell_type": "code",
   "execution_count": 2,
   "metadata": {
    "id": "mJJ7eU2ntL37"
   },
   "outputs": [
    {
     "name": "stdout",
     "output_type": "stream",
     "text": [
      "loading data from: data/SBU\n"
     ]
    }
   ],
   "source": [
    "SBU_dir = \"data/SBU\"\n",
    "dataset = GETDATA(SBU_dir)\n",
    "train, test = dataset.get_data()"
   ]
  },
  {
   "cell_type": "markdown",
   "metadata": {
    "id": "WK4FC5NJtL37"
   },
   "source": [
    "# How to use the Model\n",
    "\n",
    "In models.py, there is a implementation of the model (multi_person).\n",
    "\n",
    "First, you need to pass the number of max bodies in a frame of your dataset. Example for SBU kinect Dataset, max number of bodies is 2. So while initializing model, pass the number of max_bodies\n",
    "\n",
    "Ex: \n",
    "1. multi_person(2) if max bodies is 2\n",
    "2. multi_person(20) if max bodies is 20\n",
    "\n",
    "You can also pass other parameters like: number of frames, number of joints, dimensions of the joints\n",
    "\n",
    "Ex: **multi_person(5, frame_l=32, joint_n=25, joint_d=3)**: There are maximum 5 bodies, 32 frames, 25 joints and joint is of 3 dimension.\n",
    "\n",
    "By default, frame_l=16, joint_n=15, joint_d=3.\n",
    "\n",
    "\n",
    "# How to pass input to the model\n",
    "You need to pass a list of input to the model:\n",
    "\n",
    "($S_1$, $M_1$, $S_2$, $M_2$, $S_3$, $M_3$, ..., $S_n$, $M_n$ )\n",
    "\n",
    "where:\n",
    "\n",
    "$S_i$ is the skeletal posture of person $i$\n",
    "\n",
    "$M_i$ is the temporal difference of person $i$\n",
    "\n",
    "$n$ is the maximum number of bodies\n",
    "\n",
    "\n",
    "**If the number of bodies in current frame is less than n, then rest of the skeletal posture and temporal difference should be a matrix of 0's**\n",
    "\n",
    "Dimensions of $S_i$ and $M_i$ are **(frame_l * joint_n * joint_d)**\n",
    "\n",
    "\n",
    "You may need to train the model multiple times to achieve best accuracy."
   ]
  },
  {
   "cell_type": "markdown",
   "metadata": {
    "id": "e6bhBB9ttL38"
   },
   "source": [
    "# Initialize the model"
   ]
  },
  {
   "cell_type": "code",
   "execution_count": 3,
   "metadata": {
    "id": "Lf_3asSNtL38"
   },
   "outputs": [],
   "source": [
    "os.environ[\"CUDA_DEVICE_ORDER\"]=\"PCI_BUS_ID\"   \n",
    "os.environ[\"CUDA_VISIBLE_DEVICES\"]=\"0\""
   ]
  },
  {
   "cell_type": "code",
   "execution_count": 4,
   "metadata": {
    "id": "85S-agBztL38"
   },
   "outputs": [
    {
     "name": "stderr",
     "output_type": "stream",
     "text": [
      "2022-07-04 21:41:51.120584: W tensorflow/stream_executor/platform/default/dso_loader.cc:64] Could not load dynamic library 'libcuda.so.1'; dlerror: libcuda.so.1: cannot open shared object file: No such file or directory\n",
      "2022-07-04 21:41:51.120606: W tensorflow/stream_executor/cuda/cuda_driver.cc:269] failed call to cuInit: UNKNOWN ERROR (303)\n",
      "2022-07-04 21:41:51.120622: I tensorflow/stream_executor/cuda/cuda_diagnostics.cc:156] kernel driver does not appear to be running on this host (joey): /proc/driver/nvidia/version does not exist\n",
      "2022-07-04 21:41:51.121025: I tensorflow/core/platform/cpu_feature_guard.cc:193] This TensorFlow binary is optimized with oneAPI Deep Neural Network Library (oneDNN) to use the following CPU instructions in performance-critical operations:  AVX2 AVX512F AVX512_VNNI FMA\n",
      "To enable them in other operations, rebuild TensorFlow with the appropriate compiler flags.\n"
     ]
    },
    {
     "name": "stdout",
     "output_type": "stream",
     "text": [
      "Model: \"model_1\"\n",
      "__________________________________________________________________________________________________\n",
      " Layer (type)                   Output Shape         Param #     Connected to                     \n",
      "==================================================================================================\n",
      " inp_j_0 (InputLayer)           [(None, 16, 15, 3)]  0           []                               \n",
      "                                                                                                  \n",
      " inp_j_diff_0 (InputLayer)      [(None, 16, 15, 3)]  0           []                               \n",
      "                                                                                                  \n",
      " inp_j_1 (InputLayer)           [(None, 16, 15, 3)]  0           []                               \n",
      "                                                                                                  \n",
      " inp_j_diff_1 (InputLayer)      [(None, 16, 15, 3)]  0           []                               \n",
      "                                                                                                  \n",
      " model (Functional)             (None, 4, 8, 128)    35840       ['inp_j_0[0][0]',                \n",
      "                                                                  'inp_j_diff_0[0][0]',           \n",
      "                                                                  'inp_j_1[0][0]',                \n",
      "                                                                  'inp_j_diff_1[0][0]']           \n",
      "                                                                                                  \n",
      " maximum (Maximum)              (None, 4, 8, 128)    0           ['model[0][0]',                  \n",
      "                                                                  'model[1][0]']                  \n",
      "                                                                                                  \n",
      " flatten (Flatten)              (None, 4096)         0           ['maximum[0][0]']                \n",
      "                                                                                                  \n",
      " dropout_2 (Dropout)            (None, 4096)         0           ['flatten[0][0]']                \n",
      "                                                                                                  \n",
      " dense (Dense)                  (None, 256)          1048832     ['dropout_2[0][0]']              \n",
      "                                                                                                  \n",
      " batch_normalization_8 (BatchNo  (None, 256)         1024        ['dense[0][0]']                  \n",
      " rmalization)                                                                                     \n",
      "                                                                                                  \n",
      " leaky_re_lu_8 (LeakyReLU)      (None, 256)          0           ['batch_normalization_8[0][0]']  \n",
      "                                                                                                  \n",
      " dropout_3 (Dropout)            (None, 256)          0           ['leaky_re_lu_8[0][0]']          \n",
      "                                                                                                  \n",
      " dense_1 (Dense)                (None, 8)            2056        ['dropout_3[0][0]']              \n",
      "                                                                                                  \n",
      "==================================================================================================\n",
      "Total params: 1,087,752\n",
      "Trainable params: 1,086,344\n",
      "Non-trainable params: 1,408\n",
      "__________________________________________________________________________________________________\n"
     ]
    }
   ],
   "source": [
    "model = multi_person(2)\n",
    "model.compile(optimizer='adam', loss='mse', metrics = ['accuracy'])\n",
    "model.summary()"
   ]
  },
  {
   "cell_type": "markdown",
   "metadata": {
    "id": "MJ9hnFZqtL38"
   },
   "source": [
    "# Train the model"
   ]
  },
  {
   "cell_type": "code",
   "execution_count": 5,
   "metadata": {
    "id": "Akos0H2ctL39"
   },
   "outputs": [
    {
     "name": "stdout",
     "output_type": "stream",
     "text": [
      "14/14 [==============================] - 2s 95ms/step - loss: 0.2213 - accuracy: 0.2824\n",
      "14/14 [==============================] - 1s 88ms/step - loss: 0.1071 - accuracy: 0.6065\n",
      "14/14 [==============================] - 2s 106ms/step - loss: 0.0657 - accuracy: 0.7894\n",
      "14/14 [==============================] - 1s 69ms/step - loss: 0.0454 - accuracy: 0.8750\n",
      "14/14 [==============================] - 1s 95ms/step - loss: 0.0286 - accuracy: 0.9375\n",
      "14/14 [==============================] - 1s 75ms/step - loss: 0.0240 - accuracy: 0.9375\n",
      "14/14 [==============================] - 1s 72ms/step - loss: 0.0217 - accuracy: 0.9514\n",
      "14/14 [==============================] - 1s 44ms/step - loss: 0.0219 - accuracy: 0.9329\n",
      "14/14 [==============================] - 1s 45ms/step - loss: 0.0135 - accuracy: 0.9676\n",
      "14/14 [==============================] - 1s 41ms/step - loss: 0.0113 - accuracy: 0.9815\n",
      "14/14 [==============================] - 1s 41ms/step - loss: 0.0101 - accuracy: 0.9815\n",
      "14/14 [==============================] - 1s 43ms/step - loss: 0.0124 - accuracy: 0.9722\n",
      "14/14 [==============================] - 1s 41ms/step - loss: 0.0102 - accuracy: 0.9769\n",
      "14/14 [==============================] - 1s 42ms/step - loss: 0.0081 - accuracy: 0.9792\n",
      "14/14 [==============================] - 1s 39ms/step - loss: 0.0065 - accuracy: 0.9954\n",
      "14/14 [==============================] - 1s 40ms/step - loss: 0.0082 - accuracy: 0.9815\n",
      "14/14 [==============================] - 1s 39ms/step - loss: 0.0059 - accuracy: 0.9861\n",
      "14/14 [==============================] - 1s 39ms/step - loss: 0.0058 - accuracy: 0.9931\n",
      "14/14 [==============================] - 1s 44ms/step - loss: 0.0056 - accuracy: 0.9907\n",
      "14/14 [==============================] - 1s 36ms/step - loss: 0.0045 - accuracy: 0.9977\n",
      "14/14 [==============================] - 1s 41ms/step - loss: 0.0045 - accuracy: 0.9931\n",
      "14/14 [==============================] - 1s 39ms/step - loss: 0.0053 - accuracy: 0.9907\n",
      "14/14 [==============================] - 1s 40ms/step - loss: 0.0041 - accuracy: 0.9931\n",
      "14/14 [==============================] - 1s 41ms/step - loss: 0.0048 - accuracy: 0.9907\n",
      "14/14 [==============================] - 1s 38ms/step - loss: 0.0025 - accuracy: 1.0000\n",
      "14/14 [==============================] - 1s 39ms/step - loss: 0.0037 - accuracy: 1.0000\n",
      "14/14 [==============================] - 1s 46ms/step - loss: 0.0037 - accuracy: 0.9931\n",
      "14/14 [==============================] - 1s 36ms/step - loss: 0.0042 - accuracy: 0.9884\n",
      "14/14 [==============================] - 1s 41ms/step - loss: 0.0038 - accuracy: 0.9931\n",
      "14/14 [==============================] - 1s 37ms/step - loss: 0.0024 - accuracy: 0.9954\n",
      "14/14 [==============================] - 1s 40ms/step - loss: 0.0022 - accuracy: 0.9954\n",
      "14/14 [==============================] - 1s 37ms/step - loss: 0.0024 - accuracy: 0.9931\n",
      "14/14 [==============================] - 1s 47ms/step - loss: 0.0020 - accuracy: 0.9977\n",
      "14/14 [==============================] - 1s 40ms/step - loss: 0.0033 - accuracy: 0.9861\n",
      "14/14 [==============================] - 1s 40ms/step - loss: 0.0044 - accuracy: 0.9954\n",
      "14/14 [==============================] - 1s 43ms/step - loss: 0.0029 - accuracy: 0.9954\n",
      "14/14 [==============================] - 1s 41ms/step - loss: 0.0024 - accuracy: 0.9977\n",
      "14/14 [==============================] - 1s 37ms/step - loss: 0.0020 - accuracy: 1.0000\n",
      "14/14 [==============================] - 1s 37ms/step - loss: 0.0032 - accuracy: 0.9954\n",
      "14/14 [==============================] - 1s 42ms/step - loss: 0.0024 - accuracy: 0.9977\n",
      "14/14 [==============================] - 1s 37ms/step - loss: 0.0020 - accuracy: 0.9977\n",
      "14/14 [==============================] - 1s 40ms/step - loss: 0.0015 - accuracy: 1.0000\n",
      "14/14 [==============================] - 1s 38ms/step - loss: 0.0020 - accuracy: 0.9954\n",
      "14/14 [==============================] - 1s 44ms/step - loss: 0.0025 - accuracy: 0.9931\n",
      "14/14 [==============================] - 1s 42ms/step - loss: 0.0017 - accuracy: 0.9977\n",
      "14/14 [==============================] - 1s 40ms/step - loss: 0.0023 - accuracy: 0.9954\n",
      "14/14 [==============================] - 1s 45ms/step - loss: 0.0021 - accuracy: 0.9977\n",
      "14/14 [==============================] - 1s 42ms/step - loss: 0.0017 - accuracy: 0.9954\n",
      "14/14 [==============================] - 1s 43ms/step - loss: 0.0024 - accuracy: 0.9977\n",
      "14/14 [==============================] - 1s 46ms/step - loss: 0.0015 - accuracy: 0.9977\n"
     ]
    }
   ],
   "source": [
    "EPOCHS = 50\n",
    "for e in range(EPOCHS):\n",
    "\n",
    "    X_0, X_1, X_2, X_3 = [], [], [], []\n",
    "    Y = []\n",
    "\n",
    "    for i in range(1,9):                 # loop all the 8 classes\n",
    "        for j in range(len(train[i])):   # loop all samples within the ith class\n",
    "            \n",
    "\n",
    "            # First person pose\n",
    "            s_1 = get_person_pose(train[i][j].T[:,:45])\n",
    "            m_1 = temporal_difference(s_1)\n",
    "\n",
    "            # Second person pose\n",
    "            s_2 = get_person_pose(train[i][j].T[:,45:])\n",
    "            m_2 = temporal_difference(s_2)\n",
    "\n",
    "            # Mirror Augmentation\n",
    "            s_1_m, s_2_m = mirror(s_1,s_2)\n",
    "            m_1_m = temporal_difference(s_1_m)\n",
    "            m_2_m = temporal_difference(s_2_m)\n",
    "\n",
    "            # label\n",
    "            label = np.zeros(8)\n",
    "            label[i-1] = 1\n",
    "\n",
    "\n",
    "            # Append all postures\n",
    "            X_0.append(s_1)\n",
    "            X_1.append(m_1)\n",
    "            X_2.append(s_2)\n",
    "            X_3.append(m_2)\n",
    "            \n",
    "            Y.append(label)\n",
    "\n",
    "\n",
    "            # Append all mirrored postures\n",
    "            X_0.append(s_1_m)\n",
    "            X_1.append(m_1_m)\n",
    "            X_2.append(s_2_m)\n",
    "            X_3.append(m_2_m)\n",
    "            \n",
    "            Y.append(label)\n",
    "\n",
    "        \n",
    "\n",
    "\n",
    "    X_0 = np.stack(X_0)\n",
    "    X_1 = np.stack(X_1)\n",
    "    X_2 = np.stack(X_2)\n",
    "    X_3 = np.stack(X_3)\n",
    "    Y = np.stack(Y)\n",
    "    \n",
    "    \n",
    "    history = model.fit([X_0,X_1,X_2,X_3], Y, batch_size=32, epochs=1, verbose=True, shuffle=True)\n"
   ]
  },
  {
   "cell_type": "markdown",
   "metadata": {
    "id": "4vDme8-HtL39"
   },
   "source": [
    "# Test model"
   ]
  },
  {
   "cell_type": "code",
   "execution_count": 6,
   "metadata": {
    "id": "5t9NGN2utL39"
   },
   "outputs": [
    {
     "name": "stdout",
     "output_type": "stream",
     "text": [
      "Do you want to load any prev model? (y/n) n\n",
      "\n",
      "\n",
      "3/3 [==============================] - 0s 19ms/step\n",
      "              precision    recall  f1-score   support\n",
      "\n",
      "           0       1.00      1.00      1.00        11\n",
      "           1       0.65      1.00      0.79        11\n",
      "           2       1.00      1.00      1.00        10\n",
      "           3       0.88      0.88      0.88         8\n",
      "           4       1.00      0.67      0.80         3\n",
      "           5       1.00      1.00      1.00         5\n",
      "           6       1.00      0.80      0.89        10\n",
      "           7       1.00      0.62      0.77         8\n",
      "\n",
      "    accuracy                           0.89        66\n",
      "   macro avg       0.94      0.87      0.89        66\n",
      "weighted avg       0.93      0.89      0.90        66\n",
      "\n"
     ]
    }
   ],
   "source": [
    "import keras\n",
    "\n",
    "if input(\"Do you want to load any prev model? (y/n) \") == \"y\":\n",
    "    load_name = input(\"Name of the model: \")\n",
    "    model = keras.models.load_model(f\"all_model/{load_name}\")\n",
    "\n",
    "print(\"\\n\")\n",
    "    \n",
    "X_TEST_0 = []\n",
    "X_TEST_1 = []\n",
    "X_TEST_2 = []\n",
    "X_TEST_3 = []\n",
    "Y_TEST = []\n",
    "\n",
    "for i in range(1,9):\n",
    "    for j in range(len(test[i])):\n",
    "\n",
    "        s_1 = get_person_pose(test[i][j].T[:,:45])\n",
    "        s_2 = get_person_pose(test[i][j].T[:,45:])\n",
    "        \n",
    "        m_1 = temporal_difference(s_1)\n",
    "        m_2 = temporal_difference(s_2)\n",
    "     \n",
    "        X_TEST_0.append(s_1)\n",
    "        X_TEST_1.append(m_1)\n",
    "        X_TEST_2.append(s_2)\n",
    "        X_TEST_3.append(m_2)\n",
    "        \n",
    "        label = np.zeros(8)\n",
    "        label[i-1] = 1\n",
    "        Y_TEST.append(label)\n",
    "\n",
    "X_TEST_0 = np.stack(X_TEST_0)\n",
    "X_TEST_1 = np.stack(X_TEST_1)\n",
    "X_TEST_2 = np.stack(X_TEST_2)\n",
    "X_TEST_3 = np.stack(X_TEST_3)\n",
    "X_TEST = [X_TEST_0,X_TEST_1,X_TEST_2,X_TEST_3]\n",
    "Y_TEST = np.stack(Y_TEST)\n",
    "\n",
    "\n",
    "from sklearn.metrics import classification_report\n",
    "\n",
    "y_pred = model.predict(X_TEST)\n",
    "\n",
    "Y_TEST = np.argmax(Y_TEST, axis=1)\n",
    "y_pred = np.argmax(y_pred, axis=1)\n",
    "\n",
    "\n",
    "print(classification_report(Y_TEST, y_pred))"
   ]
  },
  {
   "cell_type": "markdown",
   "metadata": {
    "id": "Jm_qPceFtL3-"
   },
   "source": [
    "# Save the model"
   ]
  },
  {
   "cell_type": "code",
   "execution_count": null,
   "metadata": {
    "id": "ubJUO3TJtL3-"
   },
   "outputs": [],
   "source": [
    "if input(\"Do you want to save the model? (y/n) \") == \"y\":\n",
    "    name = input(\"Name of the Model: \")\n",
    "    model.save(f\"all_models/{name}\")"
   ]
  },
  {
   "cell_type": "markdown",
   "metadata": {
    "id": "ACwehSU-tL3-"
   },
   "source": [
    "# Visulize the mirror augmentation"
   ]
  },
  {
   "cell_type": "code",
   "execution_count": null,
   "metadata": {
    "id": "U8Bwq5fztL3_"
   },
   "outputs": [],
   "source": [
    "i = 10\n",
    "draw_2d_pose([p_0[i],p_1[i]])\n",
    "print(p_0[i].shape)\n",
    "p_0_new, p_1_new = mirror(p_0,p_1)\n",
    "draw_2d_pose([p_0_new[i],p_1_new[i]])"
   ]
  },
  {
   "cell_type": "code",
   "execution_count": null,
   "metadata": {
    "id": "ulBPmdUMtL3_"
   },
   "outputs": [],
   "source": []
  }
 ],
 "metadata": {
  "colab": {
   "collapsed_sections": [],
   "name": "main.ipynb",
   "provenance": []
  },
  "kernelspec": {
   "display_name": "Python 3 (ipykernel)",
   "language": "python",
   "name": "python3"
  },
  "language_info": {
   "codemirror_mode": {
    "name": "ipython",
    "version": 3
   },
   "file_extension": ".py",
   "mimetype": "text/x-python",
   "name": "python",
   "nbconvert_exporter": "python",
   "pygments_lexer": "ipython3",
   "version": "3.9.7"
  }
 },
 "nbformat": 4,
 "nbformat_minor": 1
}
