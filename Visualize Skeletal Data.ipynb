{
 "cells": [
  {
   "cell_type": "code",
   "execution_count": 1,
   "metadata": {},
   "outputs": [],
   "source": [
    "from utils import *\n",
    "import numpy as np"
   ]
  },
  {
   "cell_type": "markdown",
   "metadata": {},
   "source": [
    "# Used to create skeletal posture from Given coordinates"
   ]
  },
  {
   "cell_type": "code",
   "execution_count": 2,
   "metadata": {},
   "outputs": [],
   "source": [
    "# add all the 90 coordinates (2 people, 15 joints, 3 dimensions ==> 2*15*3 = 90)\n",
    "\n",
    "p0 = np.array([0.5074,0.32978,1.7055,0.50213,0.44152,1.6958,0.49809,0.56035,1.6843,0.50271,0.4468,1.8216,0.54118,0.60549,1.7263,0.57003,0.67513,1.525,0.50155,0.43624,1.5699,0.54907,0.55457,1.4619,0.64894,0.60054,1.5572,0.49443,0.68263,1.7551,0.51216,0.91485,1.7031,0.52921,1.1381,1.6532,0.495,0.67968,1.596,0.4686,0.91166,1.5353,0.46877,1.1412,1.5343,0.5787,0.43423,1.6011,0.5723,0.53605,1.6491,0.56542,0.63985,1.703,0.58181,0.56214,1.541,0.53188,0.68842,1.4644,0.44282,0.79376,1.4662,0.5628,0.50997,1.7572,0.54724,0.60246,1.931,0.44596,0.65128,1.9528,0.56477,0.76068,1.6861,0.56746,0.93964,1.4946,0.57003,1.1117,1.3104,0.55231,0.72658,1.8276,0.56754,0.87398,1.5933,0.58219,1.0157,1.368])\n",
    "\n",
    "\n",
    "p0, p1 = p0[:45], p0[45:]\n",
    "p0 = p0.reshape([15, 3])\n",
    "p1 = p1.reshape([15, 3])"
   ]
  },
  {
   "cell_type": "code",
   "execution_count": 3,
   "metadata": {},
   "outputs": [
    {
     "name": "stderr",
     "output_type": "stream",
     "text": [
      "/home/roshan_/Desktop/Exploratory Project/utils.py:72: VisibleDeprecationWarning: Creating an ndarray from ragged nested sequences (which is a list-or-tuple of lists-or-tuples-or ndarrays with different lengths or shapes) is deprecated. If you meant to do this, you must specify 'dtype=object' when creating the ndarray\n",
      "  f_ind = np.array([\n",
      "/home/roshan_/Desktop/Exploratory Project/utils.py:87: MatplotlibDeprecationWarning: Adding an axes using the same arguments as a previous axes currently reuses the earlier instance.  In a future version, a new instance will always be created and returned.  Meanwhile, this warning can be suppressed, and the future behavior ensured, by passing a unique label to each axes instance.\n",
      "  ax = fig.add_subplot(111)\n"
     ]
    },
    {
     "data": {
      "image/png": "[encoded data removed]",
      "text/plain": [
       "<Figure size 432x288 with 1 Axes>"
      ]
     },
     "metadata": {
      "needs_background": "light"
     },
     "output_type": "display_data"
    }
   ],
   "source": [
    "draw_2d_pose([p0, p1])"
   ]
  }
 ],
 "metadata": {
  "kernelspec": {
   "display_name": "Python 3",
   "language": "python",
   "name": "python3"
  },
  "language_info": {
   "codemirror_mode": {
    "name": "ipython",
    "version": 3
   },
   "file_extension": ".py",
   "mimetype": "text/x-python",
   "name": "python",
   "nbconvert_exporter": "python",
   "pygments_lexer": "ipython3",
   "version": "3.8.5"
  }
 },
 "nbformat": 4,
 "nbformat_minor": 4
}
